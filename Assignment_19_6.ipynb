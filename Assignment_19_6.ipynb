{
  "nbformat": 4,
  "nbformat_minor": 0,
  "metadata": {
    "colab": {
      "name": "Assignment- 19/6.ipynb",
      "provenance": [],
      "collapsed_sections": [],
      "authorship_tag": "ABX9TyNcHlpwrcgAattqR4ggs3XI",
      "include_colab_link": true
    },
    "kernelspec": {
      "name": "python3",
      "display_name": "Python 3"
    }
  },
  "cells": [
    {
      "cell_type": "markdown",
      "metadata": {
        "id": "view-in-github",
        "colab_type": "text"
      },
      "source": [
        "<a href=\"https://colab.research.google.com/github/poojabhateley/Python-Assignment/blob/master/Assignment_19_6.ipynb\" target=\"_parent\"><img src=\"https://colab.research.google.com/assets/colab-badge.svg\" alt=\"Open In Colab\"/></a>"
      ]
    },
    {
      "cell_type": "code",
      "metadata": {
        "id": "oAzFHy7XZWMi",
        "colab_type": "code",
        "colab": {
          "base_uri": "https://localhost:8080/",
          "height": 34
        },
        "outputId": "d3375100-0d14-480c-c162-1fd363fd1ff6"
      },
      "source": [
        "#Question 1 email among list of strings\n",
        "\n",
        "import re\n",
        "\n",
        "l=['rahul@codeasylums.com', 'Rahul kumar','bhateleypooja@gmail.com','xyz','abc']\n",
        "\n",
        "result=[]\n",
        "for i in l:\n",
        "  if re.findall('\\S+@\\S+',i):\n",
        "    result.append(i)\n",
        "\n",
        "\n",
        "result\n"
      ],
      "execution_count": 4,
      "outputs": [
        {
          "output_type": "execute_result",
          "data": {
            "text/plain": [
              "['rahul@codeasylums.com', 'bhateleypooja@gmail.com']"
            ]
          },
          "metadata": {
            "tags": []
          },
          "execution_count": 4
        }
      ]
    },
    {
      "cell_type": "code",
      "metadata": {
        "id": "bfiCdl58geCN",
        "colab_type": "code",
        "colab": {}
      },
      "source": [
        "#Question- extract list of name basis on class\n",
        "\n",
        "d={'9':'Rahul', '10':'Ritwik', '9':'Pratik','10':'Sai'}\n",
        "\n",
        "from collections import defaultdict\n",
        "\n",
        "l=defaultdict(list)\n",
        "for key,val in sorted(d.items()):\n",
        "  l[key].append(val)\n",
        "print(l)"
      ],
      "execution_count": null,
      "outputs": []
    },
    {
      "cell_type": "code",
      "metadata": {
        "id": "EVagyE-pbON1",
        "colab_type": "code",
        "colab": {}
      },
      "source": [
        "#Questions 3\n",
        "\n",
        "feature=[10,20,30,40,50]\n",
        "\n",
        "import pandas as pd\n",
        "\n",
        "data=pd.DataFrame({'Id':[1,2,3,4,5],'feature':[10,20,30,50,20]})"
      ],
      "execution_count": 10,
      "outputs": []
    },
    {
      "cell_type": "code",
      "metadata": {
        "id": "ufyAkw0qdS4R",
        "colab_type": "code",
        "colab": {}
      },
      "source": [
        "if len(feature)==data.shape[0]:\n",
        "  print('Same length')"
      ],
      "execution_count": 11,
      "outputs": []
    },
    {
      "cell_type": "code",
      "metadata": {
        "id": "cq_pCFRwdcUZ",
        "colab_type": "code",
        "colab": {
          "base_uri": "https://localhost:8080/",
          "height": 34
        },
        "outputId": "d1f6b2c5-661e-48ea-96b9-b78f3eb0eccc"
      },
      "source": [
        "for i in data.columns:\n",
        "  if i =='feature':\n",
        "    print('Same feature name exits')\n",
        "    break"
      ],
      "execution_count": 12,
      "outputs": [
        {
          "output_type": "stream",
          "text": [
            "Same feature name exits\n"
          ],
          "name": "stdout"
        }
      ]
    },
    {
      "cell_type": "code",
      "metadata": {
        "id": "uyEwNEuzdtK3",
        "colab_type": "code",
        "colab": {
          "base_uri": "https://localhost:8080/",
          "height": 52
        },
        "outputId": "85be3ff4-a6a8-4020-b405-ff8c73c1cb2b"
      },
      "source": [
        "#Question 4\n",
        "l1=['IAmPooja','ThisIsACamel']\n",
        "\n",
        "print([i.lower() for i in l1])\n",
        "print([i.upper() for i in l1])"
      ],
      "execution_count": 14,
      "outputs": [
        {
          "output_type": "stream",
          "text": [
            "['iampooja', 'thisisacamel']\n",
            "['IAMPOOJA', 'THISISACAMEL']\n"
          ],
          "name": "stdout"
        }
      ]
    },
    {
      "cell_type": "code",
      "metadata": {
        "id": "B_uXyIs2eR9F",
        "colab_type": "code",
        "colab": {}
      },
      "source": [
        ""
      ],
      "execution_count": null,
      "outputs": []
    }
  ]
}